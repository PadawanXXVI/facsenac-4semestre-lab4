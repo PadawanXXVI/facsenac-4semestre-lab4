{
 "cells": [
  {
   "cell_type": "markdown",
   "id": "0ca17a2b",
   "metadata": {},
   "source": [
    "# PROJETO DE RECONHECIMENTO DE IMAGENS\n"
   ]
  },
  {
   "cell_type": "markdown",
   "id": "09d1819c",
   "metadata": {},
   "source": [
    "## 🗃️ 1 Download e extração do arquivo\n"
   ]
  },
  {
   "cell_type": "code",
   "execution_count": 9,
   "id": "df1ad889",
   "metadata": {},
   "outputs": [
    {
     "name": "stdout",
     "output_type": "stream",
     "text": [
      "Baixando dataset...\n",
      "Download e extração concluídos!\n"
     ]
    }
   ],
   "source": [
    "import urllib.request\n",
    "import zipfile\n",
    "import os\n",
    "\n",
    "# URL do dataset\n",
    "url = \"https://storage.googleapis.com/mledu-datasets/cats_and_dogs_filtered.zip\"\n",
    "filename = \"cats_and_dogs_filtered.zip\"\n",
    "\n",
    "# Baixar o arquivo\n",
    "if not os.path.exists(filename):\n",
    "    print(\"Baixando dataset...\")\n",
    "    urllib.request.urlretrieve(url, filename)\n",
    "else:\n",
    "    print(\"Arquivo já existe.\")\n",
    "\n",
    "# Extrair o zip\n",
    "with zipfile.ZipFile(filename, 'r') as zip_ref:\n",
    "    zip_ref.extractall(\"cats_and_dogs_filtered\")\n",
    "\n",
    "print(\"Download e extração concluídos!\")\n"
   ]
  },
  {
   "cell_type": "markdown",
   "id": "6a56962a",
   "metadata": {},
   "source": [
    "## 📚 2 Bibliotecas\n"
   ]
  },
  {
   "cell_type": "code",
   "execution_count": null,
   "id": "55c91c1d",
   "metadata": {},
   "outputs": [
    {
     "name": "stderr",
     "output_type": "stream",
     "text": [
      "Matplotlib is building the font cache; this may take a moment.\n"
     ]
    }
   ],
   "source": [
    "import numpy as np\n",
    "import matplotlib.pyplot as plt\n",
    "import tensorflow as tf\n",
    "from tensorflow import keras\n",
    "from tensorflow.keras.preprocessing.image import ImageDataGenerator\n"
   ]
  }
 ],
 "metadata": {
  "kernelspec": {
   "display_name": ".venv (3.11.0)",
   "language": "python",
   "name": "python3"
  },
  "language_info": {
   "codemirror_mode": {
    "name": "ipython",
    "version": 3
   },
   "file_extension": ".py",
   "mimetype": "text/x-python",
   "name": "python",
   "nbconvert_exporter": "python",
   "pygments_lexer": "ipython3",
   "version": "3.11.0"
  }
 },
 "nbformat": 4,
 "nbformat_minor": 5
}
