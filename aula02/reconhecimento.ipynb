{
 "cells": [
  {
   "cell_type": "markdown",
   "id": "0ca17a2b",
   "metadata": {},
   "source": [
    "# PROJETO DE RECONHECIMENTO DE IMAGENS\n"
   ]
  },
  {
   "cell_type": "markdown",
   "id": "09d1819c",
   "metadata": {},
   "source": [
    "## 🗃️ 1 Download e extração do arquivo\n"
   ]
  },
  {
   "cell_type": "code",
   "execution_count": null,
   "id": "8968bf81",
   "metadata": {},
   "outputs": [],
   "source": []
  },
  {
   "cell_type": "markdown",
   "id": "6a56962a",
   "metadata": {},
   "source": [
    "## 📚 2 Bibliotecas\n"
   ]
  },
  {
   "cell_type": "code",
   "execution_count": null,
   "id": "55c91c1d",
   "metadata": {},
   "outputs": [],
   "source": []
  }
 ],
 "metadata": {
  "kernelspec": {
   "display_name": ".venv (3.11.0)",
   "language": "python",
   "name": "python3"
  },
  "language_info": {
   "codemirror_mode": {
    "name": "ipython",
    "version": 3
   },
   "file_extension": ".py",
   "mimetype": "text/x-python",
   "name": "python",
   "nbconvert_exporter": "python",
   "pygments_lexer": "ipython3",
   "version": "3.11.0"
  }
 },
 "nbformat": 4,
 "nbformat_minor": 5
}
