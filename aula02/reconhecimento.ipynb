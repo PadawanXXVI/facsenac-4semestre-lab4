{
 "cells": [
  {
   "cell_type": "markdown",
   "id": "0ca17a2b",
   "metadata": {},
   "source": [
    "# PROJETO DE RECONHECIMENTO DE IMAGENS\n"
   ]
  },
  {
   "cell_type": "markdown",
   "id": "2e542582",
   "metadata": {},
   "source": [
    "## 📚 1 Bibliotecas\n",
    " "
   ]
  }
 ],
 "metadata": {
  "kernelspec": {
   "display_name": ".venv (3.11.0)",
   "language": "python",
   "name": "python3"
  },
  "language_info": {
   "codemirror_mode": {
    "name": "ipython",
    "version": 3
   },
   "file_extension": ".py",
   "mimetype": "text/x-python",
   "name": "python",
   "nbconvert_exporter": "python",
   "pygments_lexer": "ipython3",
   "version": "3.11.0"
  }
 },
 "nbformat": 4,
 "nbformat_minor": 5
}
